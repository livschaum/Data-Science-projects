{
 "cells": [
  {
   "cell_type": "markdown",
   "metadata": {
    "id": "8yQA2Z3cPAdi"
   },
   "source": [
    "# Modelo para predição da qualidade de vinhos\n",
    "## Problema de negócio\n",
    "O controle de qualidade nos diferentes setores de manufatura pode se beneficiar muito\n",
    "da aplicação de ferramentas de machine learning. Modelos preditivos podem trazer\n",
    "ganho de tempo ao prever resultados de análises demoradas ou ainda obter ganhos de\n",
    "processo, prevendo como parâmetros de controle podem impactar na qualidade do\n",
    "produto e permitindo fazer correções a tempo de evitar a produção de produtos não-conformes. Ferramentas de machine learning podem também reduzir a necessidade de\n",
    "análises de custo elevado por meio de aplicações capazes de predizer resultados a partir\n",
    "dos resultados de análises mais simples."
   ]
  },
  {
   "cell_type": "markdown",
   "metadata": {},
   "source": [
    "## Dataset\n",
    "Para desenvolver o projeto de machine learning foi escolhido um dataset disponível no kaggle (https://www.kaggle.com/uciml/red-wine-quality-cortez-et-al-2009) onde são listadas análises físico-químicas de amostras de vinho, especificamente\n",
    "fixed acidity, volatile acidity, citric acid, residual sugar, chlorides, free sulfur dioxide, total sulfur dioxide, density, pH, sulfates, alcohol. Também estão disponíveis os resultados de uma análise sensorial feita por técnicos, onde as amostras de vinho foram classificadas na qualidade geral com notas de 0 a 10.\n",
    "\n",
    "A proposta é prever os resultados das análises sensoriais a partir das demais análises físico-químicas, uma vez que essas análises físico-químicas são obrigatoriamente feitas para a certificação do vinho. Assim, as análises físico-químicas serão as variáveis de entrada do modelo, enquanto a análise sensorial será a variável de saída."
   ]
  },
  {
   "cell_type": "markdown",
   "metadata": {},
   "source": [
    "#### Importando as bibliotecas"
   ]
  },
  {
   "cell_type": "code",
   "execution_count": 1,
   "metadata": {
    "executionInfo": {
     "elapsed": 13,
     "status": "ok",
     "timestamp": 1634438090343,
     "user": {
      "displayName": "Lívia Schaumlöffel",
      "photoUrl": "https://lh3.googleusercontent.com/a-/AOh14Gi_57cih9ovAQ7mcSlalehai5cFK614UxuR5K3M-Ho=s64",
      "userId": "05228036694839920831"
     },
     "user_tz": 180
    },
    "id": "omxeZS2eHM1z"
   },
   "outputs": [],
   "source": [
    "import pandas as pd\n",
    "import numpy as np\n",
    "import matplotlib.pyplot as plt\n"
   ]
  },
  {
   "cell_type": "markdown",
   "metadata": {
    "id": "5yzZg4aPH4XG"
   },
   "source": [
    "#### Importação do dataset"
   ]
  },
  {
   "cell_type": "code",
   "execution_count": 2,
   "metadata": {
    "colab": {
     "base_uri": "https://localhost:8080/",
     "height": 241
    },
    "executionInfo": {
     "elapsed": 384,
     "status": "ok",
     "timestamp": 1634439247776,
     "user": {
      "displayName": "Lívia Schaumlöffel",
      "photoUrl": "https://lh3.googleusercontent.com/a-/AOh14Gi_57cih9ovAQ7mcSlalehai5cFK614UxuR5K3M-Ho=s64",
      "userId": "05228036694839920831"
     },
     "user_tz": 180
    },
    "id": "ThNJcwfKLRAj",
    "outputId": "7224a121-ab55-4460-f789-38ba2c2ffc8f",
    "scrolled": true
   },
   "outputs": [
    {
     "data": {
      "text/html": [
       "<div>\n",
       "<style scoped>\n",
       "    .dataframe tbody tr th:only-of-type {\n",
       "        vertical-align: middle;\n",
       "    }\n",
       "\n",
       "    .dataframe tbody tr th {\n",
       "        vertical-align: top;\n",
       "    }\n",
       "\n",
       "    .dataframe thead th {\n",
       "        text-align: right;\n",
       "    }\n",
       "</style>\n",
       "<table border=\"1\" class=\"dataframe\">\n",
       "  <thead>\n",
       "    <tr style=\"text-align: right;\">\n",
       "      <th></th>\n",
       "      <th>fixed acidity</th>\n",
       "      <th>volatile acidity</th>\n",
       "      <th>citric acid</th>\n",
       "      <th>residual sugar</th>\n",
       "      <th>chlorides</th>\n",
       "      <th>free sulfur dioxide</th>\n",
       "      <th>total sulfur dioxide</th>\n",
       "      <th>density</th>\n",
       "      <th>pH</th>\n",
       "      <th>sulphates</th>\n",
       "      <th>alcohol</th>\n",
       "      <th>quality</th>\n",
       "    </tr>\n",
       "  </thead>\n",
       "  <tbody>\n",
       "    <tr>\n",
       "      <th>0</th>\n",
       "      <td>7.4</td>\n",
       "      <td>0.70</td>\n",
       "      <td>0.00</td>\n",
       "      <td>1.9</td>\n",
       "      <td>0.076</td>\n",
       "      <td>11.0</td>\n",
       "      <td>34.0</td>\n",
       "      <td>0.9978</td>\n",
       "      <td>3.51</td>\n",
       "      <td>0.56</td>\n",
       "      <td>9.4</td>\n",
       "      <td>5</td>\n",
       "    </tr>\n",
       "    <tr>\n",
       "      <th>1</th>\n",
       "      <td>7.8</td>\n",
       "      <td>0.88</td>\n",
       "      <td>0.00</td>\n",
       "      <td>2.6</td>\n",
       "      <td>0.098</td>\n",
       "      <td>25.0</td>\n",
       "      <td>67.0</td>\n",
       "      <td>0.9968</td>\n",
       "      <td>3.20</td>\n",
       "      <td>0.68</td>\n",
       "      <td>9.8</td>\n",
       "      <td>5</td>\n",
       "    </tr>\n",
       "    <tr>\n",
       "      <th>2</th>\n",
       "      <td>7.8</td>\n",
       "      <td>0.76</td>\n",
       "      <td>0.04</td>\n",
       "      <td>2.3</td>\n",
       "      <td>0.092</td>\n",
       "      <td>15.0</td>\n",
       "      <td>54.0</td>\n",
       "      <td>0.9970</td>\n",
       "      <td>3.26</td>\n",
       "      <td>0.65</td>\n",
       "      <td>9.8</td>\n",
       "      <td>5</td>\n",
       "    </tr>\n",
       "    <tr>\n",
       "      <th>3</th>\n",
       "      <td>11.2</td>\n",
       "      <td>0.28</td>\n",
       "      <td>0.56</td>\n",
       "      <td>1.9</td>\n",
       "      <td>0.075</td>\n",
       "      <td>17.0</td>\n",
       "      <td>60.0</td>\n",
       "      <td>0.9980</td>\n",
       "      <td>3.16</td>\n",
       "      <td>0.58</td>\n",
       "      <td>9.8</td>\n",
       "      <td>6</td>\n",
       "    </tr>\n",
       "    <tr>\n",
       "      <th>4</th>\n",
       "      <td>7.4</td>\n",
       "      <td>0.70</td>\n",
       "      <td>0.00</td>\n",
       "      <td>1.9</td>\n",
       "      <td>0.076</td>\n",
       "      <td>11.0</td>\n",
       "      <td>34.0</td>\n",
       "      <td>0.9978</td>\n",
       "      <td>3.51</td>\n",
       "      <td>0.56</td>\n",
       "      <td>9.4</td>\n",
       "      <td>5</td>\n",
       "    </tr>\n",
       "  </tbody>\n",
       "</table>\n",
       "</div>"
      ],
      "text/plain": [
       "   fixed acidity  volatile acidity  citric acid  residual sugar  chlorides  \\\n",
       "0            7.4              0.70         0.00             1.9      0.076   \n",
       "1            7.8              0.88         0.00             2.6      0.098   \n",
       "2            7.8              0.76         0.04             2.3      0.092   \n",
       "3           11.2              0.28         0.56             1.9      0.075   \n",
       "4            7.4              0.70         0.00             1.9      0.076   \n",
       "\n",
       "   free sulfur dioxide  total sulfur dioxide  density    pH  sulphates  \\\n",
       "0                 11.0                  34.0   0.9978  3.51       0.56   \n",
       "1                 25.0                  67.0   0.9968  3.20       0.68   \n",
       "2                 15.0                  54.0   0.9970  3.26       0.65   \n",
       "3                 17.0                  60.0   0.9980  3.16       0.58   \n",
       "4                 11.0                  34.0   0.9978  3.51       0.56   \n",
       "\n",
       "   alcohol  quality  \n",
       "0      9.4        5  \n",
       "1      9.8        5  \n",
       "2      9.8        5  \n",
       "3      9.8        6  \n",
       "4      9.4        5  "
      ]
     },
     "execution_count": 2,
     "metadata": {},
     "output_type": "execute_result"
    }
   ],
   "source": [
    "wine = pd.read_csv('winequality.csv')\n",
    "wine.head(5)  #Para visualizar o dataset (primeiras linhas)"
   ]
  },
  {
   "cell_type": "markdown",
   "metadata": {
    "id": "6rqkM0osS69l"
   },
   "source": [
    "### Exploração dos dados"
   ]
  },
  {
   "cell_type": "code",
   "execution_count": 3,
   "metadata": {
    "colab": {
     "base_uri": "https://localhost:8080/"
    },
    "executionInfo": {
     "elapsed": 358,
     "status": "ok",
     "timestamp": 1634439253176,
     "user": {
      "displayName": "Lívia Schaumlöffel",
      "photoUrl": "https://lh3.googleusercontent.com/a-/AOh14Gi_57cih9ovAQ7mcSlalehai5cFK614UxuR5K3M-Ho=s64",
      "userId": "05228036694839920831"
     },
     "user_tz": 180
    },
    "id": "UDpPtBDVTC20",
    "outputId": "9033cc0f-f555-4de4-c2fd-198711c9f1e2"
   },
   "outputs": [
    {
     "name": "stdout",
     "output_type": "stream",
     "text": [
      "<class 'pandas.core.frame.DataFrame'>\n",
      "RangeIndex: 1599 entries, 0 to 1598\n",
      "Data columns (total 12 columns):\n",
      " #   Column                Non-Null Count  Dtype  \n",
      "---  ------                --------------  -----  \n",
      " 0   fixed acidity         1599 non-null   float64\n",
      " 1   volatile acidity      1599 non-null   float64\n",
      " 2   citric acid           1599 non-null   float64\n",
      " 3   residual sugar        1599 non-null   float64\n",
      " 4   chlorides             1599 non-null   float64\n",
      " 5   free sulfur dioxide   1599 non-null   float64\n",
      " 6   total sulfur dioxide  1599 non-null   float64\n",
      " 7   density               1599 non-null   float64\n",
      " 8   pH                    1599 non-null   float64\n",
      " 9   sulphates             1599 non-null   float64\n",
      " 10  alcohol               1599 non-null   float64\n",
      " 11  quality               1599 non-null   int64  \n",
      "dtypes: float64(11), int64(1)\n",
      "memory usage: 150.0 KB\n"
     ]
    }
   ],
   "source": [
    "wine.info()  # esse comando apresena as features e qual o tipo de cada uma"
   ]
  },
  {
   "cell_type": "code",
   "execution_count": 4,
   "metadata": {
    "colab": {
     "base_uri": "https://localhost:8080/"
    },
    "executionInfo": {
     "elapsed": 337,
     "status": "ok",
     "timestamp": 1634439256329,
     "user": {
      "displayName": "Lívia Schaumlöffel",
      "photoUrl": "https://lh3.googleusercontent.com/a-/AOh14Gi_57cih9ovAQ7mcSlalehai5cFK614UxuR5K3M-Ho=s64",
      "userId": "05228036694839920831"
     },
     "user_tz": 180
    },
    "id": "cDwX9aATVc7k",
    "outputId": "97d7c6e1-b8ff-4e7c-a911-f354f8155f21"
   },
   "outputs": [
    {
     "data": {
      "text/plain": [
       "fixed acidity           0\n",
       "volatile acidity        0\n",
       "citric acid             0\n",
       "residual sugar          0\n",
       "chlorides               0\n",
       "free sulfur dioxide     0\n",
       "total sulfur dioxide    0\n",
       "density                 0\n",
       "pH                      0\n",
       "sulphates               0\n",
       "alcohol                 0\n",
       "quality                 0\n",
       "dtype: int64"
      ]
     },
     "execution_count": 4,
     "metadata": {},
     "output_type": "execute_result"
    }
   ],
   "source": [
    "wine.isnull().sum() #este comando verifica a presença de dados faltantes no dataset"
   ]
  },
  {
   "cell_type": "markdown",
   "metadata": {},
   "source": [
    "Na sequência vamos entender o comportamento das variáves com algumas visualizações"
   ]
  },
  {
   "cell_type": "code",
   "execution_count": 17,
   "metadata": {
    "colab": {
     "base_uri": "https://localhost:8080/",
     "height": 503
    },
    "executionInfo": {
     "elapsed": 1503,
     "status": "ok",
     "timestamp": 1634439260063,
     "user": {
      "displayName": "Lívia Schaumlöffel",
      "photoUrl": "https://lh3.googleusercontent.com/a-/AOh14Gi_57cih9ovAQ7mcSlalehai5cFK614UxuR5K3M-Ho=s64",
      "userId": "05228036694839920831"
     },
     "user_tz": 180
    },
    "id": "yBNqi3baWuBI",
    "outputId": "6f5e4b64-66fa-4e93-9985-4c577dfc23af"
   },
   "outputs": [
    {
     "data": {
      "text/plain": [
       "<AxesSubplot:>"
      ]
     },
     "execution_count": 17,
     "metadata": {},
     "output_type": "execute_result"
    },
    {
     "data": {
      "image/png": "[encoded data removed]",
      "text/plain": [
       "<Figure size 1080x576 with 1 Axes>"
      ]
     },
     "metadata": {},
     "output_type": "display_data"
    }
   ],
   "source": [
    "import seaborn as sns\n",
    "sns.set(rc = {'figure.figsize':(15,8)})\n",
    "sns.boxplot(data=wine,width=0.5)"
   ]
  },
  {
   "cell_type": "code",
   "execution_count": 7,
   "metadata": {
    "colab": {
     "base_uri": "https://localhost:8080/",
     "height": 520
    },
    "executionInfo": {
     "elapsed": 1008,
     "status": "ok",
     "timestamp": 1634439316433,
     "user": {
      "displayName": "Lívia Schaumlöffel",
      "photoUrl": "https://lh3.googleusercontent.com/a-/AOh14Gi_57cih9ovAQ7mcSlalehai5cFK614UxuR5K3M-Ho=s64",
      "userId": "05228036694839920831"
     },
     "user_tz": 180
    },
    "id": "o5TA3BooLEBH",
    "outputId": "05615435-8ce5-44f0-8d14-7f10fe281a21"
   },
   "outputs": [
    {
     "data": {
      "text/plain": [
       "<AxesSubplot:xlabel='quality', ylabel='Count'>"
      ]
     },
     "execution_count": 7,
     "metadata": {},
     "output_type": "execute_result"
    },
    {
     "data": {
      "image/png": "[encoded data removed]",
      "text/plain": [
       "<Figure size 1080x576 with 1 Axes>"
      ]
     },
     "metadata": {},
     "output_type": "display_data"
    }
   ],
   "source": [
    "sns.histplot(data=wine['quality'])"
   ]
  },
  {
   "cell_type": "markdown",
   "metadata": {
    "id": "dNCAXbHT00UM"
   },
   "source": [
    "### Construção do modelo\n",
    "Para a construção do modelo as análises físico-químicas serão as variáveis de entrada do modelo, enquanto a análise sensorial será a variável de saída."
   ]
  },
  {
   "cell_type": "markdown",
   "metadata": {},
   "source": [
    "#### Seleção das variáveis\n",
    "O conjunto de variáveis preditoras será denominado x.\n",
    "E a variável resposta será denominada y."
   ]
  },
  {
   "cell_type": "code",
   "execution_count": 5,
   "metadata": {
    "colab": {
     "base_uri": "https://localhost:8080/",
     "height": 241
    },
    "executionInfo": {
     "elapsed": 351,
     "status": "ok",
     "timestamp": 1634439340047,
     "user": {
      "displayName": "Lívia Schaumlöffel",
      "photoUrl": "https://lh3.googleusercontent.com/a-/AOh14Gi_57cih9ovAQ7mcSlalehai5cFK614UxuR5K3M-Ho=s64",
      "userId": "05228036694839920831"
     },
     "user_tz": 180
    },
    "id": "ZTbckqR9058F",
    "outputId": "8633aafb-353c-42a8-9b05-1a6a4bf46471"
   },
   "outputs": [
    {
     "data": {
      "text/html": [
       "<div>\n",
       "<style scoped>\n",
       "    .dataframe tbody tr th:only-of-type {\n",
       "        vertical-align: middle;\n",
       "    }\n",
       "\n",
       "    .dataframe tbody tr th {\n",
       "        vertical-align: top;\n",
       "    }\n",
       "\n",
       "    .dataframe thead th {\n",
       "        text-align: right;\n",
       "    }\n",
       "</style>\n",
       "<table border=\"1\" class=\"dataframe\">\n",
       "  <thead>\n",
       "    <tr style=\"text-align: right;\">\n",
       "      <th></th>\n",
       "      <th>fixed acidity</th>\n",
       "      <th>volatile acidity</th>\n",
       "      <th>citric acid</th>\n",
       "      <th>residual sugar</th>\n",
       "      <th>chlorides</th>\n",
       "      <th>free sulfur dioxide</th>\n",
       "      <th>total sulfur dioxide</th>\n",
       "      <th>density</th>\n",
       "      <th>pH</th>\n",
       "      <th>sulphates</th>\n",
       "      <th>alcohol</th>\n",
       "    </tr>\n",
       "  </thead>\n",
       "  <tbody>\n",
       "    <tr>\n",
       "      <th>0</th>\n",
       "      <td>7.4</td>\n",
       "      <td>0.70</td>\n",
       "      <td>0.00</td>\n",
       "      <td>1.9</td>\n",
       "      <td>0.076</td>\n",
       "      <td>11.0</td>\n",
       "      <td>34.0</td>\n",
       "      <td>0.9978</td>\n",
       "      <td>3.51</td>\n",
       "      <td>0.56</td>\n",
       "      <td>9.4</td>\n",
       "    </tr>\n",
       "    <tr>\n",
       "      <th>1</th>\n",
       "      <td>7.8</td>\n",
       "      <td>0.88</td>\n",
       "      <td>0.00</td>\n",
       "      <td>2.6</td>\n",
       "      <td>0.098</td>\n",
       "      <td>25.0</td>\n",
       "      <td>67.0</td>\n",
       "      <td>0.9968</td>\n",
       "      <td>3.20</td>\n",
       "      <td>0.68</td>\n",
       "      <td>9.8</td>\n",
       "    </tr>\n",
       "    <tr>\n",
       "      <th>2</th>\n",
       "      <td>7.8</td>\n",
       "      <td>0.76</td>\n",
       "      <td>0.04</td>\n",
       "      <td>2.3</td>\n",
       "      <td>0.092</td>\n",
       "      <td>15.0</td>\n",
       "      <td>54.0</td>\n",
       "      <td>0.9970</td>\n",
       "      <td>3.26</td>\n",
       "      <td>0.65</td>\n",
       "      <td>9.8</td>\n",
       "    </tr>\n",
       "    <tr>\n",
       "      <th>3</th>\n",
       "      <td>11.2</td>\n",
       "      <td>0.28</td>\n",
       "      <td>0.56</td>\n",
       "      <td>1.9</td>\n",
       "      <td>0.075</td>\n",
       "      <td>17.0</td>\n",
       "      <td>60.0</td>\n",
       "      <td>0.9980</td>\n",
       "      <td>3.16</td>\n",
       "      <td>0.58</td>\n",
       "      <td>9.8</td>\n",
       "    </tr>\n",
       "    <tr>\n",
       "      <th>4</th>\n",
       "      <td>7.4</td>\n",
       "      <td>0.70</td>\n",
       "      <td>0.00</td>\n",
       "      <td>1.9</td>\n",
       "      <td>0.076</td>\n",
       "      <td>11.0</td>\n",
       "      <td>34.0</td>\n",
       "      <td>0.9978</td>\n",
       "      <td>3.51</td>\n",
       "      <td>0.56</td>\n",
       "      <td>9.4</td>\n",
       "    </tr>\n",
       "  </tbody>\n",
       "</table>\n",
       "</div>"
      ],
      "text/plain": [
       "   fixed acidity  volatile acidity  citric acid  residual sugar  chlorides  \\\n",
       "0            7.4              0.70         0.00             1.9      0.076   \n",
       "1            7.8              0.88         0.00             2.6      0.098   \n",
       "2            7.8              0.76         0.04             2.3      0.092   \n",
       "3           11.2              0.28         0.56             1.9      0.075   \n",
       "4            7.4              0.70         0.00             1.9      0.076   \n",
       "\n",
       "   free sulfur dioxide  total sulfur dioxide  density    pH  sulphates  \\\n",
       "0                 11.0                  34.0   0.9978  3.51       0.56   \n",
       "1                 25.0                  67.0   0.9968  3.20       0.68   \n",
       "2                 15.0                  54.0   0.9970  3.26       0.65   \n",
       "3                 17.0                  60.0   0.9980  3.16       0.58   \n",
       "4                 11.0                  34.0   0.9978  3.51       0.56   \n",
       "\n",
       "   alcohol  \n",
       "0      9.4  \n",
       "1      9.8  \n",
       "2      9.8  \n",
       "3      9.8  \n",
       "4      9.4  "
      ]
     },
     "execution_count": 5,
     "metadata": {},
     "output_type": "execute_result"
    }
   ],
   "source": [
    "X = wine.drop('quality', axis=1) #removendo a variável 'quality' para ficarmos apenas com as variáveis preditoras.\n",
    "X.head(5) "
   ]
  },
  {
   "cell_type": "code",
   "execution_count": 6,
   "metadata": {
    "colab": {
     "base_uri": "https://localhost:8080/"
    },
    "executionInfo": {
     "elapsed": 11,
     "status": "ok",
     "timestamp": 1634439342827,
     "user": {
      "displayName": "Lívia Schaumlöffel",
      "photoUrl": "https://lh3.googleusercontent.com/a-/AOh14Gi_57cih9ovAQ7mcSlalehai5cFK614UxuR5K3M-Ho=s64",
      "userId": "05228036694839920831"
     },
     "user_tz": 180
    },
    "id": "mE9kL5F19TZ2",
    "outputId": "82643399-017c-44d2-ec74-0b2e4b281889"
   },
   "outputs": [
    {
     "data": {
      "text/plain": [
       "0    5\n",
       "1    5\n",
       "2    5\n",
       "3    6\n",
       "4    5\n",
       "Name: quality, dtype: int64"
      ]
     },
     "execution_count": 6,
     "metadata": {},
     "output_type": "execute_result"
    }
   ],
   "source": [
    "y = wine['quality'] #seleção da variável resposta que é a feature 'quality' que é análise sensorial do vinho\n",
    "y.head()"
   ]
  },
  {
   "cell_type": "markdown",
   "metadata": {
    "id": "ck9NDKlpHM2O"
   },
   "source": [
    "#### Modelagem \n",
    "Como os dados da variável de saída são categóricos (notas de 0 a 10 apesar de ser um valor numérico não é uma variável contínua), para resolver o problema podem ser utilizados algoritmos de classificação que são tipicamente aplicados onde as variáveis preditivas são numéricas e a variável resposta é categórica.\n",
    "\n",
    "No caso, foi escolhido utilizar o algoritmo de redes neurais para classificação."
   ]
  },
  {
   "cell_type": "code",
   "execution_count": 7,
   "metadata": {
    "colab": {
     "base_uri": "https://localhost:8080/"
    },
    "executionInfo": {
     "elapsed": 312,
     "status": "ok",
     "timestamp": 1634440135811,
     "user": {
      "displayName": "Lívia Schaumlöffel",
      "photoUrl": "https://lh3.googleusercontent.com/a-/AOh14Gi_57cih9ovAQ7mcSlalehai5cFK614UxuR5K3M-Ho=s64",
      "userId": "05228036694839920831"
     },
     "user_tz": 180
    },
    "id": "NhOoND6iX6wt",
    "outputId": "d27aa99d-e88e-4291-9776-096763ca0428"
   },
   "outputs": [
    {
     "name": "stdout",
     "output_type": "stream",
     "text": [
      "(1119, 11)\n",
      "(480, 11)\n",
      "(1119,)\n",
      "(480,)\n"
     ]
    }
   ],
   "source": [
    "#dividindo os dados em conjunto de treino e teste\n",
    "from sklearn.model_selection import train_test_split\n",
    "X_train, X_test, y_train, y_test = train_test_split(X, y, test_size=0.30) \n",
    "print(X_train.shape)\n",
    "print(X_test.shape)\n",
    "print(y_train.shape)\n",
    "print(y_test.shape)"
   ]
  },
  {
   "cell_type": "code",
   "execution_count": 8,
   "metadata": {
    "executionInfo": {
     "elapsed": 358,
     "status": "ok",
     "timestamp": 1634440144702,
     "user": {
      "displayName": "Lívia Schaumlöffel",
      "photoUrl": "https://lh3.googleusercontent.com/a-/AOh14Gi_57cih9ovAQ7mcSlalehai5cFK614UxuR5K3M-Ho=s64",
      "userId": "05228036694839920831"
     },
     "user_tz": 180
    },
    "id": "CL1ZpXWZ0yvR"
   },
   "outputs": [],
   "source": [
    "#Padronizando os dados\n",
    "from sklearn.preprocessing import StandardScaler \n",
    "scaler = StandardScaler()  \n",
    "scaler.fit(X_train)  \n",
    "Xs_train = scaler.transform(X_train)  \n",
    "Xs_test = scaler.transform(X_test)  \n",
    "\n"
   ]
  },
  {
   "cell_type": "code",
   "execution_count": 30,
   "metadata": {
    "executionInfo": {
     "elapsed": 24008,
     "status": "ok",
     "timestamp": 1634445250949,
     "user": {
      "displayName": "Lívia Schaumlöffel",
      "photoUrl": "https://lh3.googleusercontent.com/a-/AOh14Gi_57cih9ovAQ7mcSlalehai5cFK614UxuR5K3M-Ho=s64",
      "userId": "05228036694839920831"
     },
     "user_tz": 180
    },
    "id": "zjp1aP1v-Lhj"
   },
   "outputs": [],
   "source": [
    "#treinamento da rede neural\n",
    "from sklearn.neural_network import MLPClassifier\n",
    "rede = MLPClassifier(hidden_layer_sizes=(150,50,10),\n",
    "                     random_state=1,\n",
    "                     max_iter=10000,\n",
    "                     solver='lbfgs').fit(Xs_train, y_train)"
   ]
  },
  {
   "cell_type": "code",
   "execution_count": 31,
   "metadata": {
    "executionInfo": {
     "elapsed": 347,
     "status": "ok",
     "timestamp": 1634445754228,
     "user": {
      "displayName": "Lívia Schaumlöffel",
      "photoUrl": "https://lh3.googleusercontent.com/a-/AOh14Gi_57cih9ovAQ7mcSlalehai5cFK614UxuR5K3M-Ho=s64",
      "userId": "05228036694839920831"
     },
     "user_tz": 180
    },
    "id": "F7tJa3py-kpB"
   },
   "outputs": [
    {
     "data": {
      "text/plain": [
       "(1119,)"
      ]
     },
     "execution_count": 31,
     "metadata": {},
     "output_type": "execute_result"
    }
   ],
   "source": [
    "y_pred = rede.predict(Xs_test)\n",
    "y_pred_train = rede.predict(Xs_train)\n",
    "y_pred_train.shape"
   ]
  },
  {
   "cell_type": "markdown",
   "metadata": {
    "id": "aBE4SMsJHM2P"
   },
   "source": [
    "#### Avaliação do modelo"
   ]
  },
  {
   "cell_type": "code",
   "execution_count": 32,
   "metadata": {
    "colab": {
     "base_uri": "https://localhost:8080/"
    },
    "executionInfo": {
     "elapsed": 357,
     "status": "ok",
     "timestamp": 1634445793941,
     "user": {
      "displayName": "Lívia Schaumlöffel",
      "photoUrl": "https://lh3.googleusercontent.com/a-/AOh14Gi_57cih9ovAQ7mcSlalehai5cFK614UxuR5K3M-Ho=s64",
      "userId": "05228036694839920831"
     },
     "user_tz": 180
    },
    "id": "QZ7MYrEmiHuK",
    "outputId": "dce72dd6-2f9c-4196-9805-444091a3d464"
   },
   "outputs": [
    {
     "name": "stdout",
     "output_type": "stream",
     "text": [
      "[[  0   1   0   0   0   0]\n",
      " [  1   2   9   6   1   0]\n",
      " [  2   7 151  49   8   0]\n",
      " [  3   2  34 121  14   1]\n",
      " [  0   0   6  28  25   5]\n",
      " [  0   0   0   1   2   1]]\n",
      "Acurácia conjunto de teste: 0.625\n",
      "Acurácia conjunto de treino: 1.0\n"
     ]
    }
   ],
   "source": [
    "from sklearn.metrics import confusion_matrix\n",
    "from sklearn.metrics import accuracy_score\n",
    "cm = confusion_matrix(y_test, y_pred)\n",
    "print(cm)\n",
    "print(\"Acurácia conjunto de teste: %s\" %accuracy_score(y_pred, y_test))\n",
    "print(\"Acurácia conjunto de treino: %s\" %accuracy_score(y_pred_train, y_train))"
   ]
  },
  {
   "cell_type": "code",
   "execution_count": 29,
   "metadata": {
    "colab": {
     "base_uri": "https://localhost:8080/",
     "height": 485
    },
    "executionInfo": {
     "elapsed": 900,
     "status": "ok",
     "timestamp": 1634445490845,
     "user": {
      "displayName": "Lívia Schaumlöffel",
      "photoUrl": "https://lh3.googleusercontent.com/a-/AOh14Gi_57cih9ovAQ7mcSlalehai5cFK614UxuR5K3M-Ho=s64",
      "userId": "05228036694839920831"
     },
     "user_tz": 180
    },
    "id": "FJgglIELiu1C",
    "outputId": "642e79dc-e25b-454f-e50a-35e34792dee4"
   },
   "outputs": [
    {
     "data": {
      "image/png": "[encoded data removed]",
      "text/plain": [
       "<Figure size 1080x576 with 2 Axes>"
      ]
     },
     "metadata": {},
     "output_type": "display_data"
    }
   ],
   "source": [
    "sns.heatmap(cm, center=True)\n",
    "plt.show()"
   ]
  },
  {
   "cell_type": "markdown",
   "metadata": {},
   "source": [
    "A análise da matrix de confusão mostra que apesar da maioria das classificações estarem corretas (diagonal), exeistem classificações incorretas especialmente para os valores 2 e 3.\n",
    "\n",
    "Na sequência vamos plotar uma matriz que evidencia os erros para assim entender o comportamento do modelo."
   ]
  },
  {
   "cell_type": "code",
   "execution_count": 21,
   "metadata": {},
   "outputs": [],
   "source": [
    "soma_linha = cm.sum(axis=1, keepdims=True)\n",
    "norm_cm = cm / soma_linha"
   ]
  },
  {
   "cell_type": "code",
   "execution_count": 25,
   "metadata": {},
   "outputs": [
    {
     "data": {
      "image/png": "[encoded data removed]",
      "text/plain": [
       "<Figure size 576x576 with 1 Axes>"
      ]
     },
     "metadata": {},
     "output_type": "display_data"
    }
   ],
   "source": [
    "np.fill_diagonal(norm_cm, 0)\n",
    "plt.matshow(norm_cm, cmap=plt.cm.gray)\n",
    "plt.show()"
   ]
  },
  {
   "cell_type": "markdown",
   "metadata": {},
   "source": [
    "Para reduzir os erros vamos selecionar um número menor de features, baseado naquelas features que estão mais relacionadas à análise sensorial do vinho."
   ]
  },
  {
   "cell_type": "code",
   "execution_count": 34,
   "metadata": {
    "colab": {
     "base_uri": "https://localhost:8080/",
     "height": 206
    },
    "executionInfo": {
     "elapsed": 331,
     "status": "ok",
     "timestamp": 1634443465083,
     "user": {
      "displayName": "Lívia Schaumlöffel",
      "photoUrl": "https://lh3.googleusercontent.com/a-/AOh14Gi_57cih9ovAQ7mcSlalehai5cFK614UxuR5K3M-Ho=s64",
      "userId": "05228036694839920831"
     },
     "user_tz": 180
    },
    "id": "E-hRmv0SZXkb",
    "outputId": "f3272e8f-12f9-431b-f489-2bc1e63e9317"
   },
   "outputs": [
    {
     "data": {
      "text/html": [
       "<div>\n",
       "<style scoped>\n",
       "    .dataframe tbody tr th:only-of-type {\n",
       "        vertical-align: middle;\n",
       "    }\n",
       "\n",
       "    .dataframe tbody tr th {\n",
       "        vertical-align: top;\n",
       "    }\n",
       "\n",
       "    .dataframe thead th {\n",
       "        text-align: right;\n",
       "    }\n",
       "</style>\n",
       "<table border=\"1\" class=\"dataframe\">\n",
       "  <thead>\n",
       "    <tr style=\"text-align: right;\">\n",
       "      <th></th>\n",
       "      <th>volatile acidity</th>\n",
       "      <th>chlorides</th>\n",
       "      <th>free sulfur dioxide</th>\n",
       "      <th>total sulfur dioxide</th>\n",
       "      <th>pH</th>\n",
       "      <th>sulphates</th>\n",
       "      <th>alcohol</th>\n",
       "    </tr>\n",
       "  </thead>\n",
       "  <tbody>\n",
       "    <tr>\n",
       "      <th>0</th>\n",
       "      <td>0.70</td>\n",
       "      <td>0.076</td>\n",
       "      <td>11.0</td>\n",
       "      <td>34.0</td>\n",
       "      <td>3.51</td>\n",
       "      <td>0.56</td>\n",
       "      <td>9.4</td>\n",
       "    </tr>\n",
       "    <tr>\n",
       "      <th>1</th>\n",
       "      <td>0.88</td>\n",
       "      <td>0.098</td>\n",
       "      <td>25.0</td>\n",
       "      <td>67.0</td>\n",
       "      <td>3.20</td>\n",
       "      <td>0.68</td>\n",
       "      <td>9.8</td>\n",
       "    </tr>\n",
       "    <tr>\n",
       "      <th>2</th>\n",
       "      <td>0.76</td>\n",
       "      <td>0.092</td>\n",
       "      <td>15.0</td>\n",
       "      <td>54.0</td>\n",
       "      <td>3.26</td>\n",
       "      <td>0.65</td>\n",
       "      <td>9.8</td>\n",
       "    </tr>\n",
       "    <tr>\n",
       "      <th>3</th>\n",
       "      <td>0.28</td>\n",
       "      <td>0.075</td>\n",
       "      <td>17.0</td>\n",
       "      <td>60.0</td>\n",
       "      <td>3.16</td>\n",
       "      <td>0.58</td>\n",
       "      <td>9.8</td>\n",
       "    </tr>\n",
       "    <tr>\n",
       "      <th>4</th>\n",
       "      <td>0.70</td>\n",
       "      <td>0.076</td>\n",
       "      <td>11.0</td>\n",
       "      <td>34.0</td>\n",
       "      <td>3.51</td>\n",
       "      <td>0.56</td>\n",
       "      <td>9.4</td>\n",
       "    </tr>\n",
       "  </tbody>\n",
       "</table>\n",
       "</div>"
      ],
      "text/plain": [
       "   volatile acidity  chlorides  free sulfur dioxide  total sulfur dioxide  \\\n",
       "0              0.70      0.076                 11.0                  34.0   \n",
       "1              0.88      0.098                 25.0                  67.0   \n",
       "2              0.76      0.092                 15.0                  54.0   \n",
       "3              0.28      0.075                 17.0                  60.0   \n",
       "4              0.70      0.076                 11.0                  34.0   \n",
       "\n",
       "     pH  sulphates  alcohol  \n",
       "0  3.51       0.56      9.4  \n",
       "1  3.20       0.68      9.8  \n",
       "2  3.26       0.65      9.8  \n",
       "3  3.16       0.58      9.8  \n",
       "4  3.51       0.56      9.4  "
      ]
     },
     "execution_count": 34,
     "metadata": {},
     "output_type": "execute_result"
    }
   ],
   "source": [
    "Xn = X.drop(['fixed acidity', 'citric acid', 'residual sugar', 'density'], axis=1)\n",
    "Xn.head()"
   ]
  },
  {
   "cell_type": "code",
   "execution_count": 53,
   "metadata": {
    "colab": {
     "base_uri": "https://localhost:8080/"
    },
    "executionInfo": {
     "elapsed": 332,
     "status": "ok",
     "timestamp": 1634443636121,
     "user": {
      "displayName": "Lívia Schaumlöffel",
      "photoUrl": "https://lh3.googleusercontent.com/a-/AOh14Gi_57cih9ovAQ7mcSlalehai5cFK614UxuR5K3M-Ho=s64",
      "userId": "05228036694839920831"
     },
     "user_tz": 180
    },
    "id": "pAKm0p3hbXBu",
    "outputId": "7e896b44-c77d-43c0-bbf6-09232c0f59b3"
   },
   "outputs": [
    {
     "name": "stdout",
     "output_type": "stream",
     "text": [
      "(1119, 7)\n",
      "(1119,)\n"
     ]
    }
   ],
   "source": [
    "from sklearn.model_selection import train_test_split\n",
    "xn_train, xn_test, y_train, y_test = train_test_split(xn, y, test_size=0.30)\n",
    "print(xn_train.shape)\n",
    "print(y_train.shape)"
   ]
  }
 ],
 "metadata": {
  "colab": {
   "name": "Trabalho Machine Learning.ipynb",
   "provenance": [
    {
     "file_id": "1sNGvgaZL00edhmjM2wD81B3k58O9hB8d",
     "timestamp": 1634404728617
    }
   ]
  },
  "kernelspec": {
   "display_name": "Python 3.9.12 ('base')",
   "language": "python",
   "name": "python3"
  },
  "language_info": {
   "codemirror_mode": {
    "name": "ipython",
    "version": 3
   },
   "file_extension": ".py",
   "mimetype": "text/x-python",
   "name": "python",
   "nbconvert_exporter": "python",
   "pygments_lexer": "ipython3",
   "version": "3.9.12"
  },
  "vscode": {
   "interpreter": {
    "hash": "9db37e64dd9842d1793b1489b9008b9763da784937a3ba535a80f43ddd20ae17"
   }
  }
 },
 "nbformat": 4,
 "nbformat_minor": 1
}
