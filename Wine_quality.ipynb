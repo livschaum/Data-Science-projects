{
 "cells": [
  {
   "cell_type": "markdown",
   "metadata": {
    "id": "8yQA2Z3cPAdi"
   },
   "source": [
    "# Modelo para predição da qualidade de vinhos\n",
    "## Problema de negócio\n",
    "O controle de qualidade nos diferentes setores de manufatura pode se beneficiar muito\n",
    "da aplicação de ferramentas de machine learning. Modelos preditivos podem trazer\n",
    "ganho de tempo ao prever resultados de análises demoradas ou ainda obter ganhos de\n",
    "processo, prevendo como parâmetros de controle podem impactar na qualidade do\n",
    "produto e permitindo fazer correções a tempo de evitar a produção de produtos nãoconformes. Ferramentas de machine learning podem também reduzir a necessidade de\n",
    "análises de custo elevado por meio de aplicações capazes de predizer resultados a partir\n",
    "dos resultados de análises mais simples."
   ]
  },
  {
   "cell_type": "markdown",
   "metadata": {},
   "source": [
    "## Dataset\n",
    "Para desenvolver o projeto de machine learning nessa área foi escolhido um dataset disponível no kaggle (https://www.kaggle.com/uciml/red-wine-quality-cortez-et-al-2009) onde são listadas análises físico-químicas de amostras de vinho, especificamente\n",
    "fixed acidity, volatile acidity, citric acid, residual sugar, chlorides, free sulfur dioxide, total sulfur dioxide, density, pH, sulfates, alcohol. Também estão disponíveis os resultados de uma análise sensorial feita por técnicos, onde as amostras de vinho foram classificadas na qualidade geral com notas de 0 a 10.\n",
    "\n",
    "A proposta é prever os resultados das análises sensoriais a partir das demais análises físico-químicas, uma vez que essas análises físico-químicas são obrigatoriamente feitas para a certificação do vinho. Assim, as análises físico-químicas serão as variáveis de entrada do modelo, enquanto a análise sensorial será a variável de saída."
   ]
  },
  {
   "cell_type": "code",
   "execution_count": 1,
   "metadata": {
    "executionInfo": {
     "elapsed": 13,
     "status": "ok",
     "timestamp": 1634438090343,
     "user": {
      "displayName": "Lívia Schaumlöffel",
      "photoUrl": "https://lh3.googleusercontent.com/a-/AOh14Gi_57cih9ovAQ7mcSlalehai5cFK614UxuR5K3M-Ho=s64",
      "userId": "05228036694839920831"
     },
     "user_tz": 180
    },
    "id": "omxeZS2eHM1z"
   },
   "outputs": [
    {
     "name": "stderr",
     "output_type": "stream",
     "text": [
      "Matplotlib is building the font cache; this may take a moment.\n"
     ]
    }
   ],
   "source": [
    "import pandas as pd\n",
    "import numpy as np\n",
    "import matplotlib.pyplot as plt\n"
   ]
  },
  {
   "cell_type": "markdown",
   "metadata": {
    "id": "5yzZg4aPH4XG"
   },
   "source": [
    "Importação do dataset"
   ]
  },
  {
   "cell_type": "code",
   "execution_count": 2,
   "metadata": {
    "colab": {
     "base_uri": "https://localhost:8080/",
     "height": 241
    },
    "executionInfo": {
     "elapsed": 384,
     "status": "ok",
     "timestamp": 1634439247776,
     "user": {
      "displayName": "Lívia Schaumlöffel",
      "photoUrl": "https://lh3.googleusercontent.com/a-/AOh14Gi_57cih9ovAQ7mcSlalehai5cFK614UxuR5K3M-Ho=s64",
      "userId": "05228036694839920831"
     },
     "user_tz": 180
    },
    "id": "ThNJcwfKLRAj",
    "outputId": "7224a121-ab55-4460-f789-38ba2c2ffc8f",
    "scrolled": true
   },
   "outputs": [
    {
     "data": {
      "text/html": [
       "<div>\n",
       "<style scoped>\n",
       "    .dataframe tbody tr th:only-of-type {\n",
       "        vertical-align: middle;\n",
       "    }\n",
       "\n",
       "    .dataframe tbody tr th {\n",
       "        vertical-align: top;\n",
       "    }\n",
       "\n",
       "    .dataframe thead th {\n",
       "        text-align: right;\n",
       "    }\n",
       "</style>\n",
       "<table border=\"1\" class=\"dataframe\">\n",
       "  <thead>\n",
       "    <tr style=\"text-align: right;\">\n",
       "      <th></th>\n",
       "      <th>fixed acidity</th>\n",
       "      <th>volatile acidity</th>\n",
       "      <th>citric acid</th>\n",
       "      <th>residual sugar</th>\n",
       "      <th>chlorides</th>\n",
       "      <th>free sulfur dioxide</th>\n",
       "      <th>total sulfur dioxide</th>\n",
       "      <th>density</th>\n",
       "      <th>pH</th>\n",
       "      <th>sulphates</th>\n",
       "      <th>alcohol</th>\n",
       "      <th>quality</th>\n",
       "    </tr>\n",
       "  </thead>\n",
       "  <tbody>\n",
       "    <tr>\n",
       "      <th>0</th>\n",
       "      <td>7.4</td>\n",
       "      <td>0.70</td>\n",
       "      <td>0.00</td>\n",
       "      <td>1.9</td>\n",
       "      <td>0.076</td>\n",
       "      <td>11.0</td>\n",
       "      <td>34.0</td>\n",
       "      <td>0.9978</td>\n",
       "      <td>3.51</td>\n",
       "      <td>0.56</td>\n",
       "      <td>9.4</td>\n",
       "      <td>5</td>\n",
       "    </tr>\n",
       "    <tr>\n",
       "      <th>1</th>\n",
       "      <td>7.8</td>\n",
       "      <td>0.88</td>\n",
       "      <td>0.00</td>\n",
       "      <td>2.6</td>\n",
       "      <td>0.098</td>\n",
       "      <td>25.0</td>\n",
       "      <td>67.0</td>\n",
       "      <td>0.9968</td>\n",
       "      <td>3.20</td>\n",
       "      <td>0.68</td>\n",
       "      <td>9.8</td>\n",
       "      <td>5</td>\n",
       "    </tr>\n",
       "    <tr>\n",
       "      <th>2</th>\n",
       "      <td>7.8</td>\n",
       "      <td>0.76</td>\n",
       "      <td>0.04</td>\n",
       "      <td>2.3</td>\n",
       "      <td>0.092</td>\n",
       "      <td>15.0</td>\n",
       "      <td>54.0</td>\n",
       "      <td>0.9970</td>\n",
       "      <td>3.26</td>\n",
       "      <td>0.65</td>\n",
       "      <td>9.8</td>\n",
       "      <td>5</td>\n",
       "    </tr>\n",
       "    <tr>\n",
       "      <th>3</th>\n",
       "      <td>11.2</td>\n",
       "      <td>0.28</td>\n",
       "      <td>0.56</td>\n",
       "      <td>1.9</td>\n",
       "      <td>0.075</td>\n",
       "      <td>17.0</td>\n",
       "      <td>60.0</td>\n",
       "      <td>0.9980</td>\n",
       "      <td>3.16</td>\n",
       "      <td>0.58</td>\n",
       "      <td>9.8</td>\n",
       "      <td>6</td>\n",
       "    </tr>\n",
       "    <tr>\n",
       "      <th>4</th>\n",
       "      <td>7.4</td>\n",
       "      <td>0.70</td>\n",
       "      <td>0.00</td>\n",
       "      <td>1.9</td>\n",
       "      <td>0.076</td>\n",
       "      <td>11.0</td>\n",
       "      <td>34.0</td>\n",
       "      <td>0.9978</td>\n",
       "      <td>3.51</td>\n",
       "      <td>0.56</td>\n",
       "      <td>9.4</td>\n",
       "      <td>5</td>\n",
       "    </tr>\n",
       "  </tbody>\n",
       "</table>\n",
       "</div>"
      ],
      "text/plain": [
       "   fixed acidity  volatile acidity  citric acid  residual sugar  chlorides  \\\n",
       "0            7.4              0.70         0.00             1.9      0.076   \n",
       "1            7.8              0.88         0.00             2.6      0.098   \n",
       "2            7.8              0.76         0.04             2.3      0.092   \n",
       "3           11.2              0.28         0.56             1.9      0.075   \n",
       "4            7.4              0.70         0.00             1.9      0.076   \n",
       "\n",
       "   free sulfur dioxide  total sulfur dioxide  density    pH  sulphates  \\\n",
       "0                 11.0                  34.0   0.9978  3.51       0.56   \n",
       "1                 25.0                  67.0   0.9968  3.20       0.68   \n",
       "2                 15.0                  54.0   0.9970  3.26       0.65   \n",
       "3                 17.0                  60.0   0.9980  3.16       0.58   \n",
       "4                 11.0                  34.0   0.9978  3.51       0.56   \n",
       "\n",
       "   alcohol  quality  \n",
       "0      9.4        5  \n",
       "1      9.8        5  \n",
       "2      9.8        5  \n",
       "3      9.8        6  \n",
       "4      9.4        5  "
      ]
     },
     "execution_count": 2,
     "metadata": {},
     "output_type": "execute_result"
    }
   ],
   "source": [
    "wine = pd.read_csv('winequality.csv')\n",
    "wine.head(5)"
   ]
  },
  {
   "cell_type": "markdown",
   "metadata": {
    "id": "6rqkM0osS69l"
   },
   "source": [
    "Agora serao feitas algumas análises e plots para compreender os dados"
   ]
  },
  {
   "cell_type": "code",
   "execution_count": 4,
   "metadata": {
    "colab": {
     "base_uri": "https://localhost:8080/"
    },
    "executionInfo": {
     "elapsed": 358,
     "status": "ok",
     "timestamp": 1634439253176,
     "user": {
      "displayName": "Lívia Schaumlöffel",
      "photoUrl": "https://lh3.googleusercontent.com/a-/AOh14Gi_57cih9ovAQ7mcSlalehai5cFK614UxuR5K3M-Ho=s64",
      "userId": "05228036694839920831"
     },
     "user_tz": 180
    },
    "id": "UDpPtBDVTC20",
    "outputId": "9033cc0f-f555-4de4-c2fd-198711c9f1e2"
   },
   "outputs": [
    {
     "name": "stdout",
     "output_type": "stream",
     "text": [
      "<class 'pandas.core.frame.DataFrame'>\n",
      "RangeIndex: 1599 entries, 0 to 1598\n",
      "Data columns (total 12 columns):\n",
      " #   Column                Non-Null Count  Dtype  \n",
      "---  ------                --------------  -----  \n",
      " 0   fixed acidity         1599 non-null   float64\n",
      " 1   volatile acidity      1599 non-null   float64\n",
      " 2   citric acid           1599 non-null   float64\n",
      " 3   residual sugar        1599 non-null   float64\n",
      " 4   chlorides             1599 non-null   float64\n",
      " 5   free sulfur dioxide   1599 non-null   float64\n",
      " 6   total sulfur dioxide  1599 non-null   float64\n",
      " 7   density               1599 non-null   float64\n",
      " 8   pH                    1599 non-null   float64\n",
      " 9   sulphates             1599 non-null   float64\n",
      " 10  alcohol               1599 non-null   float64\n",
      " 11  quality               1599 non-null   int64  \n",
      "dtypes: float64(11), int64(1)\n",
      "memory usage: 150.0 KB\n"
     ]
    }
   ],
   "source": [
    "wine.info()"
   ]
  },
  {
   "cell_type": "code",
   "execution_count": 5,
   "metadata": {
    "colab": {
     "base_uri": "https://localhost:8080/"
    },
    "executionInfo": {
     "elapsed": 337,
     "status": "ok",
     "timestamp": 1634439256329,
     "user": {
      "displayName": "Lívia Schaumlöffel",
      "photoUrl": "https://lh3.googleusercontent.com/a-/AOh14Gi_57cih9ovAQ7mcSlalehai5cFK614UxuR5K3M-Ho=s64",
      "userId": "05228036694839920831"
     },
     "user_tz": 180
    },
    "id": "cDwX9aATVc7k",
    "outputId": "97d7c6e1-b8ff-4e7c-a911-f354f8155f21"
   },
   "outputs": [
    {
     "data": {
      "text/plain": [
       "fixed acidity           0\n",
       "volatile acidity        0\n",
       "citric acid             0\n",
       "residual sugar          0\n",
       "chlorides               0\n",
       "free sulfur dioxide     0\n",
       "total sulfur dioxide    0\n",
       "density                 0\n",
       "pH                      0\n",
       "sulphates               0\n",
       "alcohol                 0\n",
       "quality                 0\n",
       "dtype: int64"
      ]
     },
     "execution_count": 5,
     "metadata": {},
     "output_type": "execute_result"
    }
   ],
   "source": [
    "wine.isnull().sum()"
   ]
  },
  {
   "cell_type": "code",
   "execution_count": 6,
   "metadata": {
    "colab": {
     "base_uri": "https://localhost:8080/",
     "height": 503
    },
    "executionInfo": {
     "elapsed": 1503,
     "status": "ok",
     "timestamp": 1634439260063,
     "user": {
      "displayName": "Lívia Schaumlöffel",
      "photoUrl": "https://lh3.googleusercontent.com/a-/AOh14Gi_57cih9ovAQ7mcSlalehai5cFK614UxuR5K3M-Ho=s64",
      "userId": "05228036694839920831"
     },
     "user_tz": 180
    },
    "id": "yBNqi3baWuBI",
    "outputId": "6f5e4b64-66fa-4e93-9985-4c577dfc23af"
   },
   "outputs": [
    {
     "data": {
      "text/plain": [
       "<matplotlib.axes._subplots.AxesSubplot at 0x7f59fd32fd10>"
      ]
     },
     "execution_count": 6,
     "metadata": {},
     "output_type": "execute_result"
    },
    {
     "data": {
      "image/png": "[encoded data removed]",
      "text/plain": [
       "<Figure size 1080x576 with 1 Axes>"
      ]
     },
     "metadata": {},
     "output_type": "display_data"
    }
   ],
   "source": [
    "import seaborn as sns\n",
    "sns.set(rc = {'figure.figsize':(15,8)})\n",
    "sns.boxplot(data=wine,width=0.5)"
   ]
  },
  {
   "cell_type": "code",
   "execution_count": 8,
   "metadata": {
    "colab": {
     "base_uri": "https://localhost:8080/",
     "height": 520
    },
    "executionInfo": {
     "elapsed": 1008,
     "status": "ok",
     "timestamp": 1634439316433,
     "user": {
      "displayName": "Lívia Schaumlöffel",
      "photoUrl": "https://lh3.googleusercontent.com/a-/AOh14Gi_57cih9ovAQ7mcSlalehai5cFK614UxuR5K3M-Ho=s64",
      "userId": "05228036694839920831"
     },
     "user_tz": 180
    },
    "id": "o5TA3BooLEBH",
    "outputId": "05615435-8ce5-44f0-8d14-7f10fe281a21"
   },
   "outputs": [
    {
     "data": {
      "text/plain": [
       "<matplotlib.axes._subplots.AxesSubplot at 0x7f59fcb07390>"
      ]
     },
     "execution_count": 8,
     "metadata": {},
     "output_type": "execute_result"
    },
    {
     "data": {
      "image/png": "[encoded data removed]",
      "text/plain": [
       "<Figure size 1080x576 with 1 Axes>"
      ]
     },
     "metadata": {},
     "output_type": "display_data"
    }
   ],
   "source": [
    "sns.histplot(data=wine['quality'])"
   ]
  },
  {
   "cell_type": "markdown",
   "metadata": {
    "id": "dNCAXbHT00UM"
   },
   "source": [
    "### Seleção de variáveis"
   ]
  },
  {
   "cell_type": "code",
   "execution_count": 9,
   "metadata": {
    "colab": {
     "base_uri": "https://localhost:8080/",
     "height": 241
    },
    "executionInfo": {
     "elapsed": 351,
     "status": "ok",
     "timestamp": 1634439340047,
     "user": {
      "displayName": "Lívia Schaumlöffel",
      "photoUrl": "https://lh3.googleusercontent.com/a-/AOh14Gi_57cih9ovAQ7mcSlalehai5cFK614UxuR5K3M-Ho=s64",
      "userId": "05228036694839920831"
     },
     "user_tz": 180
    },
    "id": "ZTbckqR9058F",
    "outputId": "8633aafb-353c-42a8-9b05-1a6a4bf46471"
   },
   "outputs": [
    {
     "data": {
      "text/html": [
       "<div>\n",
       "<style scoped>\n",
       "    .dataframe tbody tr th:only-of-type {\n",
       "        vertical-align: middle;\n",
       "    }\n",
       "\n",
       "    .dataframe tbody tr th {\n",
       "        vertical-align: top;\n",
       "    }\n",
       "\n",
       "    .dataframe thead th {\n",
       "        text-align: right;\n",
       "    }\n",
       "</style>\n",
       "<table border=\"1\" class=\"dataframe\">\n",
       "  <thead>\n",
       "    <tr style=\"text-align: right;\">\n",
       "      <th></th>\n",
       "      <th>fixed acidity</th>\n",
       "      <th>volatile acidity</th>\n",
       "      <th>citric acid</th>\n",
       "      <th>residual sugar</th>\n",
       "      <th>chlorides</th>\n",
       "      <th>free sulfur dioxide</th>\n",
       "      <th>total sulfur dioxide</th>\n",
       "      <th>density</th>\n",
       "      <th>pH</th>\n",
       "      <th>sulphates</th>\n",
       "      <th>alcohol</th>\n",
       "    </tr>\n",
       "  </thead>\n",
       "  <tbody>\n",
       "    <tr>\n",
       "      <th>0</th>\n",
       "      <td>7.4</td>\n",
       "      <td>0.70</td>\n",
       "      <td>0.00</td>\n",
       "      <td>1.9</td>\n",
       "      <td>0.076</td>\n",
       "      <td>11.0</td>\n",
       "      <td>34.0</td>\n",
       "      <td>0.9978</td>\n",
       "      <td>3.51</td>\n",
       "      <td>0.56</td>\n",
       "      <td>9.4</td>\n",
       "    </tr>\n",
       "    <tr>\n",
       "      <th>1</th>\n",
       "      <td>7.8</td>\n",
       "      <td>0.88</td>\n",
       "      <td>0.00</td>\n",
       "      <td>2.6</td>\n",
       "      <td>0.098</td>\n",
       "      <td>25.0</td>\n",
       "      <td>67.0</td>\n",
       "      <td>0.9968</td>\n",
       "      <td>3.20</td>\n",
       "      <td>0.68</td>\n",
       "      <td>9.8</td>\n",
       "    </tr>\n",
       "    <tr>\n",
       "      <th>2</th>\n",
       "      <td>7.8</td>\n",
       "      <td>0.76</td>\n",
       "      <td>0.04</td>\n",
       "      <td>2.3</td>\n",
       "      <td>0.092</td>\n",
       "      <td>15.0</td>\n",
       "      <td>54.0</td>\n",
       "      <td>0.9970</td>\n",
       "      <td>3.26</td>\n",
       "      <td>0.65</td>\n",
       "      <td>9.8</td>\n",
       "    </tr>\n",
       "    <tr>\n",
       "      <th>3</th>\n",
       "      <td>11.2</td>\n",
       "      <td>0.28</td>\n",
       "      <td>0.56</td>\n",
       "      <td>1.9</td>\n",
       "      <td>0.075</td>\n",
       "      <td>17.0</td>\n",
       "      <td>60.0</td>\n",
       "      <td>0.9980</td>\n",
       "      <td>3.16</td>\n",
       "      <td>0.58</td>\n",
       "      <td>9.8</td>\n",
       "    </tr>\n",
       "    <tr>\n",
       "      <th>4</th>\n",
       "      <td>7.4</td>\n",
       "      <td>0.70</td>\n",
       "      <td>0.00</td>\n",
       "      <td>1.9</td>\n",
       "      <td>0.076</td>\n",
       "      <td>11.0</td>\n",
       "      <td>34.0</td>\n",
       "      <td>0.9978</td>\n",
       "      <td>3.51</td>\n",
       "      <td>0.56</td>\n",
       "      <td>9.4</td>\n",
       "    </tr>\n",
       "  </tbody>\n",
       "</table>\n",
       "</div>"
      ],
      "text/plain": [
       "   fixed acidity  volatile acidity  citric acid  ...    pH  sulphates  alcohol\n",
       "0            7.4              0.70         0.00  ...  3.51       0.56      9.4\n",
       "1            7.8              0.88         0.00  ...  3.20       0.68      9.8\n",
       "2            7.8              0.76         0.04  ...  3.26       0.65      9.8\n",
       "3           11.2              0.28         0.56  ...  3.16       0.58      9.8\n",
       "4            7.4              0.70         0.00  ...  3.51       0.56      9.4\n",
       "\n",
       "[5 rows x 11 columns]"
      ]
     },
     "execution_count": 9,
     "metadata": {},
     "output_type": "execute_result"
    }
   ],
   "source": [
    "x = wine.drop('quality', axis=1)\n",
    "x.head(5)\n"
   ]
  },
  {
   "cell_type": "code",
   "execution_count": 10,
   "metadata": {
    "colab": {
     "base_uri": "https://localhost:8080/"
    },
    "executionInfo": {
     "elapsed": 11,
     "status": "ok",
     "timestamp": 1634439342827,
     "user": {
      "displayName": "Lívia Schaumlöffel",
      "photoUrl": "https://lh3.googleusercontent.com/a-/AOh14Gi_57cih9ovAQ7mcSlalehai5cFK614UxuR5K3M-Ho=s64",
      "userId": "05228036694839920831"
     },
     "user_tz": 180
    },
    "id": "mE9kL5F19TZ2",
    "outputId": "82643399-017c-44d2-ec74-0b2e4b281889"
   },
   "outputs": [
    {
     "data": {
      "text/plain": [
       "0       5\n",
       "1       5\n",
       "2       5\n",
       "3       6\n",
       "4       5\n",
       "       ..\n",
       "1594    5\n",
       "1595    6\n",
       "1596    6\n",
       "1597    5\n",
       "1598    6\n",
       "Name: quality, Length: 1599, dtype: int64"
      ]
     },
     "execution_count": 10,
     "metadata": {},
     "output_type": "execute_result"
    }
   ],
   "source": [
    "y = wine['quality']\n",
    "y\n"
   ]
  },
  {
   "cell_type": "markdown",
   "metadata": {
    "id": "ck9NDKlpHM2O"
   },
   "source": [
    "### Modelagem "
   ]
  },
  {
   "cell_type": "code",
   "execution_count": 18,
   "metadata": {
    "colab": {
     "base_uri": "https://localhost:8080/"
    },
    "executionInfo": {
     "elapsed": 312,
     "status": "ok",
     "timestamp": 1634440135811,
     "user": {
      "displayName": "Lívia Schaumlöffel",
      "photoUrl": "https://lh3.googleusercontent.com/a-/AOh14Gi_57cih9ovAQ7mcSlalehai5cFK614UxuR5K3M-Ho=s64",
      "userId": "05228036694839920831"
     },
     "user_tz": 180
    },
    "id": "NhOoND6iX6wt",
    "outputId": "d27aa99d-e88e-4291-9776-096763ca0428"
   },
   "outputs": [
    {
     "name": "stdout",
     "output_type": "stream",
     "text": [
      "(1119, 11)\n",
      "(1119,)\n"
     ]
    }
   ],
   "source": [
    "from sklearn.model_selection import train_test_split\n",
    "x_train, x_test, y_train, y_test = train_test_split(x, y, test_size=0.30)\n",
    "print(x_train.shape)\n",
    "print(y_train.shape)"
   ]
  },
  {
   "cell_type": "code",
   "execution_count": 19,
   "metadata": {
    "executionInfo": {
     "elapsed": 358,
     "status": "ok",
     "timestamp": 1634440144702,
     "user": {
      "displayName": "Lívia Schaumlöffel",
      "photoUrl": "https://lh3.googleusercontent.com/a-/AOh14Gi_57cih9ovAQ7mcSlalehai5cFK614UxuR5K3M-Ho=s64",
      "userId": "05228036694839920831"
     },
     "user_tz": 180
    },
    "id": "CL1ZpXWZ0yvR"
   },
   "outputs": [],
   "source": [
    "from sklearn.preprocessing import StandardScaler \n",
    "scaler = StandardScaler()  \n",
    "scaler.fit(x_train)  \n",
    "xs_train = scaler.transform(x_train)  \n",
    "xs_test = scaler.transform(x_test)  \n",
    "\n"
   ]
  },
  {
   "cell_type": "code",
   "execution_count": 87,
   "metadata": {
    "executionInfo": {
     "elapsed": 24008,
     "status": "ok",
     "timestamp": 1634445250949,
     "user": {
      "displayName": "Lívia Schaumlöffel",
      "photoUrl": "https://lh3.googleusercontent.com/a-/AOh14Gi_57cih9ovAQ7mcSlalehai5cFK614UxuR5K3M-Ho=s64",
      "userId": "05228036694839920831"
     },
     "user_tz": 180
    },
    "id": "zjp1aP1v-Lhj"
   },
   "outputs": [],
   "source": [
    "from sklearn.neural_network import MLPRegressor\n",
    "from sklearn.neural_network import MLPClassifier\n",
    "rede = MLPClassifier(hidden_layer_sizes=(100,50,10),random_state=1, max_iter=10000, solver='lbfgs').fit(xs_train, y_train)\n",
    "\n",
    "\n"
   ]
  },
  {
   "cell_type": "code",
   "execution_count": 95,
   "metadata": {
    "executionInfo": {
     "elapsed": 347,
     "status": "ok",
     "timestamp": 1634445754228,
     "user": {
      "displayName": "Lívia Schaumlöffel",
      "photoUrl": "https://lh3.googleusercontent.com/a-/AOh14Gi_57cih9ovAQ7mcSlalehai5cFK614UxuR5K3M-Ho=s64",
      "userId": "05228036694839920831"
     },
     "user_tz": 180
    },
    "id": "F7tJa3py-kpB"
   },
   "outputs": [],
   "source": [
    "y_pred = rede.predict(xs_test)\n",
    "y_pred.shape\n",
    "y_predtrain = rede.predict(xs_train)"
   ]
  },
  {
   "cell_type": "code",
   "execution_count": 85,
   "metadata": {
    "colab": {
     "base_uri": "https://localhost:8080/"
    },
    "executionInfo": {
     "elapsed": 34,
     "status": "ok",
     "timestamp": 1634444780731,
     "user": {
      "displayName": "Lívia Schaumlöffel",
      "photoUrl": "https://lh3.googleusercontent.com/a-/AOh14Gi_57cih9ovAQ7mcSlalehai5cFK614UxuR5K3M-Ho=s64",
      "userId": "05228036694839920831"
     },
     "user_tz": 180
    },
    "id": "W5TViEgjIfYX",
    "outputId": "d95b06f0-3334-45fc-94f8-8a8089be320f"
   },
   "outputs": [
    {
     "name": "stdout",
     "output_type": "stream",
     "text": [
      "-0.4583246605014508\n"
     ]
    },
    {
     "data": {
      "text/plain": [
       "7.05630352181651"
      ]
     },
     "execution_count": 85,
     "metadata": {},
     "output_type": "execute_result"
    }
   ],
   "source": [
    "from sklearn.metrics import mean_squared_error\n",
    "from sklearn.metrics import r2_score\n",
    "\n",
    "print(r2_score(y_pred, y_test))\n",
    "RMSEP = np.sqrt((np.sum((y_pred - y_test) ** 2)) / 20);\n",
    "RMSEP"
   ]
  },
  {
   "cell_type": "code",
   "execution_count": 97,
   "metadata": {
    "colab": {
     "base_uri": "https://localhost:8080/"
    },
    "executionInfo": {
     "elapsed": 357,
     "status": "ok",
     "timestamp": 1634445793941,
     "user": {
      "displayName": "Lívia Schaumlöffel",
      "photoUrl": "https://lh3.googleusercontent.com/a-/AOh14Gi_57cih9ovAQ7mcSlalehai5cFK614UxuR5K3M-Ho=s64",
      "userId": "05228036694839920831"
     },
     "user_tz": 180
    },
    "id": "QZ7MYrEmiHuK",
    "outputId": "dce72dd6-2f9c-4196-9805-444091a3d464"
   },
   "outputs": [
    {
     "name": "stdout",
     "output_type": "stream",
     "text": [
      "0.35833333333333334\n",
      "0.936550491510277\n"
     ]
    }
   ],
   "source": [
    "from sklearn.metrics import confusion_matrix\n",
    "from sklearn.metrics import accuracy_score\n",
    "cm = confusion_matrix(y_test, y_pred)\n",
    "cm\n",
    "print(accuracy_score(y_pred, y_test))\n",
    "print(accuracy_score(y_predtrain, y_train))"
   ]
  },
  {
   "cell_type": "code",
   "execution_count": 92,
   "metadata": {
    "colab": {
     "base_uri": "https://localhost:8080/",
     "height": 485
    },
    "executionInfo": {
     "elapsed": 900,
     "status": "ok",
     "timestamp": 1634445490845,
     "user": {
      "displayName": "Lívia Schaumlöffel",
      "photoUrl": "https://lh3.googleusercontent.com/a-/AOh14Gi_57cih9ovAQ7mcSlalehai5cFK614UxuR5K3M-Ho=s64",
      "userId": "05228036694839920831"
     },
     "user_tz": 180
    },
    "id": "FJgglIELiu1C",
    "outputId": "642e79dc-e25b-454f-e50a-35e34792dee4"
   },
   "outputs": [
    {
     "data": {
      "image/png": "[encoded data removed]",
      "text/plain": [
       "<Figure size 1080x576 with 2 Axes>"
      ]
     },
     "metadata": {},
     "output_type": "display_data"
    }
   ],
   "source": [
    "sns.heatmap(cm, center=True)\n",
    "plt.show()"
   ]
  },
  {
   "cell_type": "code",
   "execution_count": 98,
   "metadata": {
    "colab": {
     "base_uri": "https://localhost:8080/",
     "height": 559
    },
    "executionInfo": {
     "elapsed": 955,
     "status": "ok",
     "timestamp": 1634445833607,
     "user": {
      "displayName": "Lívia Schaumlöffel",
      "photoUrl": "https://lh3.googleusercontent.com/a-/AOh14Gi_57cih9ovAQ7mcSlalehai5cFK614UxuR5K3M-Ho=s64",
      "userId": "05228036694839920831"
     },
     "user_tz": 180
    },
    "id": "0UfqcmGpaGJl",
    "outputId": "4b556a11-63c1-489f-b36a-8bf42da34e44"
   },
   "outputs": [
    {
     "name": "stderr",
     "output_type": "stream",
     "text": [
      "/usr/local/lib/python3.7/dist-packages/seaborn/_decorators.py:43: FutureWarning: Pass the following variables as keyword args: x, y. From version 0.12, the only valid positional argument will be `data`, and passing other arguments without an explicit keyword will result in an error or misinterpretation.\n",
      "  FutureWarning\n"
     ]
    },
    {
     "data": {
      "text/plain": [
       "<matplotlib.axes._subplots.AxesSubplot at 0x7f59d9668c50>"
      ]
     },
     "execution_count": 98,
     "metadata": {},
     "output_type": "execute_result"
    },
    {
     "data": {
      "image/png": "[encoded data removed]",
      "text/plain": [
       "<Figure size 1080x576 with 1 Axes>"
      ]
     },
     "metadata": {},
     "output_type": "display_data"
    }
   ],
   "source": [
    "sns.scatterplot(y_predtrain,y_train)"
   ]
  },
  {
   "cell_type": "code",
   "execution_count": 36,
   "metadata": {
    "colab": {
     "base_uri": "https://localhost:8080/"
    },
    "executionInfo": {
     "elapsed": 354,
     "status": "ok",
     "timestamp": 1634441659883,
     "user": {
      "displayName": "Lívia Schaumlöffel",
      "photoUrl": "https://lh3.googleusercontent.com/a-/AOh14Gi_57cih9ovAQ7mcSlalehai5cFK614UxuR5K3M-Ho=s64",
      "userId": "05228036694839920831"
     },
     "user_tz": 180
    },
    "id": "JHWDYRi6TfYh",
    "outputId": "b1d0b1aa-9c94-4e78-e479-bf4b4b6eef1e"
   },
   "outputs": [
    {
     "name": "stdout",
     "output_type": "stream",
     "text": [
      "[ 0.04496784 -0.17937257 -0.03774745 -0.00296889 -0.11294968  0.05625793\n",
      " -0.11720195 -0.00879704 -0.08229881  0.17133293  0.31025267]\n"
     ]
    }
   ],
   "source": [
    "from sklearn import linear_model\n",
    "regr = linear_model.LinearRegression().fit(xs_train, y_train)\n",
    "print(regr.coef_) \n"
   ]
  },
  {
   "cell_type": "code",
   "execution_count": 37,
   "metadata": {
    "executionInfo": {
     "elapsed": 332,
     "status": "ok",
     "timestamp": 1634441769740,
     "user": {
      "displayName": "Lívia Schaumlöffel",
      "photoUrl": "https://lh3.googleusercontent.com/a-/AOh14Gi_57cih9ovAQ7mcSlalehai5cFK614UxuR5K3M-Ho=s64",
      "userId": "05228036694839920831"
     },
     "user_tz": 180
    },
    "id": "ZEiMJRuUUf2c"
   },
   "outputs": [],
   "source": [
    "y_pred = regr.predict(xs_test)"
   ]
  },
  {
   "cell_type": "markdown",
   "metadata": {
    "id": "aBE4SMsJHM2P"
   },
   "source": [
    "### Avaliação do modelo"
   ]
  },
  {
   "cell_type": "code",
   "execution_count": 45,
   "metadata": {
    "colab": {
     "base_uri": "https://localhost:8080/"
    },
    "executionInfo": {
     "elapsed": 347,
     "status": "ok",
     "timestamp": 1634441936433,
     "user": {
      "displayName": "Lívia Schaumlöffel",
      "photoUrl": "https://lh3.googleusercontent.com/a-/AOh14Gi_57cih9ovAQ7mcSlalehai5cFK614UxuR5K3M-Ho=s64",
      "userId": "05228036694839920831"
     },
     "user_tz": 180
    },
    "id": "QYWQi5IvT1Ju",
    "outputId": "6bc2ae7c-4f7c-44b5-8829-70e0cd003e17"
   },
   "outputs": [
    {
     "name": "stdout",
     "output_type": "stream",
     "text": [
      "0.3369392583903056\n"
     ]
    }
   ],
   "source": [
    "# The mean square error\n",
    "np.mean((y_pred - y_test)**2)\n",
    "\n",
    "#print(regr.score(xs_test, y_test))\n",
    "print(r2_score(y_test, y_pred))"
   ]
  },
  {
   "cell_type": "code",
   "execution_count": 46,
   "metadata": {
    "colab": {
     "base_uri": "https://localhost:8080/"
    },
    "executionInfo": {
     "elapsed": 1249,
     "status": "ok",
     "timestamp": 1634442907587,
     "user": {
      "displayName": "Lívia Schaumlöffel",
      "photoUrl": "https://lh3.googleusercontent.com/a-/AOh14Gi_57cih9ovAQ7mcSlalehai5cFK614UxuR5K3M-Ho=s64",
      "userId": "05228036694839920831"
     },
     "user_tz": 180
    },
    "id": "xzyf5Z92YhTq",
    "outputId": "5e4a76b8-9a1c-4e48-ed45-0cdba9b9fc96"
   },
   "outputs": [
    {
     "name": "stderr",
     "output_type": "stream",
     "text": [
      "/usr/local/lib/python3.7/dist-packages/statsmodels/tools/_testing.py:19: FutureWarning: pandas.util.testing is deprecated. Use the functions in the public API at pandas.testing instead.\n",
      "  import pandas.util.testing as tm\n"
     ]
    },
    {
     "name": "stdout",
     "output_type": "stream",
     "text": [
      "                            OLS Regression Results                            \n",
      "==============================================================================\n",
      "Dep. Variable:                quality   R-squared:                       0.366\n",
      "Model:                            OLS   Adj. R-squared:                  0.360\n",
      "Method:                 Least Squares   F-statistic:                     58.20\n",
      "Date:                Sun, 17 Oct 2021   Prob (F-statistic):          9.60e-102\n",
      "Time:                        03:55:05   Log-Likelihood:                -1098.2\n",
      "No. Observations:                1119   AIC:                             2220.\n",
      "Df Residuals:                    1107   BIC:                             2281.\n",
      "Df Model:                          11                                         \n",
      "Covariance Type:            nonrobust                                         \n",
      "==============================================================================\n",
      "                 coef    std err          t      P>|t|      [0.025      0.975]\n",
      "------------------------------------------------------------------------------\n",
      "const          5.6452      0.019    290.924      0.000       5.607       5.683\n",
      "x1             0.0450      0.053      0.851      0.395      -0.059       0.149\n",
      "x2            -0.1794      0.026     -6.976      0.000      -0.230      -0.129\n",
      "x3            -0.0377      0.034     -1.097      0.273      -0.105       0.030\n",
      "x4            -0.0030      0.026     -0.116      0.908      -0.053       0.047\n",
      "x5            -0.1129      0.025     -4.526      0.000      -0.162      -0.064\n",
      "x6             0.0563      0.028      2.040      0.042       0.002       0.110\n",
      "x7            -0.1172      0.029     -4.014      0.000      -0.174      -0.060\n",
      "x8            -0.0088      0.049     -0.181      0.857      -0.104       0.087\n",
      "x9            -0.0823      0.035     -2.320      0.021      -0.152      -0.013\n",
      "x10            0.1713      0.024      7.103      0.000       0.124       0.219\n",
      "x11            0.3103      0.034      9.206      0.000       0.244       0.376\n",
      "==============================================================================\n",
      "Omnibus:                       19.411   Durbin-Watson:                   2.012\n",
      "Prob(Omnibus):                  0.000   Jarque-Bera (JB):               29.859\n",
      "Skew:                          -0.148   Prob(JB):                     3.28e-07\n",
      "Kurtosis:                       3.743   Cond. No.                         7.13\n",
      "==============================================================================\n",
      "\n",
      "Warnings:\n",
      "[1] Standard Errors assume that the covariance matrix of the errors is correctly specified.\n"
     ]
    }
   ],
   "source": [
    "import statsmodels.api as sm\n",
    "from scipy import stats\n",
    "xs_train2 = sm.add_constant(xs_train)\n",
    "est = sm.OLS(y_train, xs_train2)\n",
    "est2 = est.fit()\n",
    "print(est2.summary())\n"
   ]
  },
  {
   "cell_type": "code",
   "execution_count": 49,
   "metadata": {
    "colab": {
     "base_uri": "https://localhost:8080/",
     "height": 241
    },
    "executionInfo": {
     "elapsed": 324,
     "status": "ok",
     "timestamp": 1634443321518,
     "user": {
      "displayName": "Lívia Schaumlöffel",
      "photoUrl": "https://lh3.googleusercontent.com/a-/AOh14Gi_57cih9ovAQ7mcSlalehai5cFK614UxuR5K3M-Ho=s64",
      "userId": "05228036694839920831"
     },
     "user_tz": 180
    },
    "id": "GozRsdMxacQZ",
    "outputId": "a4dabbeb-6dad-4e00-aab9-7541d60730b5"
   },
   "outputs": [
    {
     "data": {
      "text/html": [
       "<div>\n",
       "<style scoped>\n",
       "    .dataframe tbody tr th:only-of-type {\n",
       "        vertical-align: middle;\n",
       "    }\n",
       "\n",
       "    .dataframe tbody tr th {\n",
       "        vertical-align: top;\n",
       "    }\n",
       "\n",
       "    .dataframe thead th {\n",
       "        text-align: right;\n",
       "    }\n",
       "</style>\n",
       "<table border=\"1\" class=\"dataframe\">\n",
       "  <thead>\n",
       "    <tr style=\"text-align: right;\">\n",
       "      <th></th>\n",
       "      <th>fixed acidity</th>\n",
       "      <th>volatile acidity</th>\n",
       "      <th>citric acid</th>\n",
       "      <th>residual sugar</th>\n",
       "      <th>chlorides</th>\n",
       "      <th>free sulfur dioxide</th>\n",
       "      <th>total sulfur dioxide</th>\n",
       "      <th>density</th>\n",
       "      <th>pH</th>\n",
       "      <th>sulphates</th>\n",
       "      <th>alcohol</th>\n",
       "    </tr>\n",
       "  </thead>\n",
       "  <tbody>\n",
       "    <tr>\n",
       "      <th>0</th>\n",
       "      <td>7.4</td>\n",
       "      <td>0.70</td>\n",
       "      <td>0.00</td>\n",
       "      <td>1.9</td>\n",
       "      <td>0.076</td>\n",
       "      <td>11.0</td>\n",
       "      <td>34.0</td>\n",
       "      <td>0.9978</td>\n",
       "      <td>3.51</td>\n",
       "      <td>0.56</td>\n",
       "      <td>9.4</td>\n",
       "    </tr>\n",
       "    <tr>\n",
       "      <th>1</th>\n",
       "      <td>7.8</td>\n",
       "      <td>0.88</td>\n",
       "      <td>0.00</td>\n",
       "      <td>2.6</td>\n",
       "      <td>0.098</td>\n",
       "      <td>25.0</td>\n",
       "      <td>67.0</td>\n",
       "      <td>0.9968</td>\n",
       "      <td>3.20</td>\n",
       "      <td>0.68</td>\n",
       "      <td>9.8</td>\n",
       "    </tr>\n",
       "    <tr>\n",
       "      <th>2</th>\n",
       "      <td>7.8</td>\n",
       "      <td>0.76</td>\n",
       "      <td>0.04</td>\n",
       "      <td>2.3</td>\n",
       "      <td>0.092</td>\n",
       "      <td>15.0</td>\n",
       "      <td>54.0</td>\n",
       "      <td>0.9970</td>\n",
       "      <td>3.26</td>\n",
       "      <td>0.65</td>\n",
       "      <td>9.8</td>\n",
       "    </tr>\n",
       "    <tr>\n",
       "      <th>3</th>\n",
       "      <td>11.2</td>\n",
       "      <td>0.28</td>\n",
       "      <td>0.56</td>\n",
       "      <td>1.9</td>\n",
       "      <td>0.075</td>\n",
       "      <td>17.0</td>\n",
       "      <td>60.0</td>\n",
       "      <td>0.9980</td>\n",
       "      <td>3.16</td>\n",
       "      <td>0.58</td>\n",
       "      <td>9.8</td>\n",
       "    </tr>\n",
       "    <tr>\n",
       "      <th>4</th>\n",
       "      <td>7.4</td>\n",
       "      <td>0.70</td>\n",
       "      <td>0.00</td>\n",
       "      <td>1.9</td>\n",
       "      <td>0.076</td>\n",
       "      <td>11.0</td>\n",
       "      <td>34.0</td>\n",
       "      <td>0.9978</td>\n",
       "      <td>3.51</td>\n",
       "      <td>0.56</td>\n",
       "      <td>9.4</td>\n",
       "    </tr>\n",
       "  </tbody>\n",
       "</table>\n",
       "</div>"
      ],
      "text/plain": [
       "   fixed acidity  volatile acidity  citric acid  ...    pH  sulphates  alcohol\n",
       "0            7.4              0.70         0.00  ...  3.51       0.56      9.4\n",
       "1            7.8              0.88         0.00  ...  3.20       0.68      9.8\n",
       "2            7.8              0.76         0.04  ...  3.26       0.65      9.8\n",
       "3           11.2              0.28         0.56  ...  3.16       0.58      9.8\n",
       "4            7.4              0.70         0.00  ...  3.51       0.56      9.4\n",
       "\n",
       "[5 rows x 11 columns]"
      ]
     },
     "execution_count": 49,
     "metadata": {},
     "output_type": "execute_result"
    }
   ],
   "source": [
    "x.head()\n"
   ]
  },
  {
   "cell_type": "code",
   "execution_count": 52,
   "metadata": {
    "colab": {
     "base_uri": "https://localhost:8080/",
     "height": 206
    },
    "executionInfo": {
     "elapsed": 331,
     "status": "ok",
     "timestamp": 1634443465083,
     "user": {
      "displayName": "Lívia Schaumlöffel",
      "photoUrl": "https://lh3.googleusercontent.com/a-/AOh14Gi_57cih9ovAQ7mcSlalehai5cFK614UxuR5K3M-Ho=s64",
      "userId": "05228036694839920831"
     },
     "user_tz": 180
    },
    "id": "E-hRmv0SZXkb",
    "outputId": "f3272e8f-12f9-431b-f489-2bc1e63e9317"
   },
   "outputs": [
    {
     "data": {
      "text/html": [
       "<div>\n",
       "<style scoped>\n",
       "    .dataframe tbody tr th:only-of-type {\n",
       "        vertical-align: middle;\n",
       "    }\n",
       "\n",
       "    .dataframe tbody tr th {\n",
       "        vertical-align: top;\n",
       "    }\n",
       "\n",
       "    .dataframe thead th {\n",
       "        text-align: right;\n",
       "    }\n",
       "</style>\n",
       "<table border=\"1\" class=\"dataframe\">\n",
       "  <thead>\n",
       "    <tr style=\"text-align: right;\">\n",
       "      <th></th>\n",
       "      <th>volatile acidity</th>\n",
       "      <th>chlorides</th>\n",
       "      <th>free sulfur dioxide</th>\n",
       "      <th>total sulfur dioxide</th>\n",
       "      <th>pH</th>\n",
       "      <th>sulphates</th>\n",
       "      <th>alcohol</th>\n",
       "    </tr>\n",
       "  </thead>\n",
       "  <tbody>\n",
       "    <tr>\n",
       "      <th>0</th>\n",
       "      <td>0.70</td>\n",
       "      <td>0.076</td>\n",
       "      <td>11.0</td>\n",
       "      <td>34.0</td>\n",
       "      <td>3.51</td>\n",
       "      <td>0.56</td>\n",
       "      <td>9.4</td>\n",
       "    </tr>\n",
       "    <tr>\n",
       "      <th>1</th>\n",
       "      <td>0.88</td>\n",
       "      <td>0.098</td>\n",
       "      <td>25.0</td>\n",
       "      <td>67.0</td>\n",
       "      <td>3.20</td>\n",
       "      <td>0.68</td>\n",
       "      <td>9.8</td>\n",
       "    </tr>\n",
       "    <tr>\n",
       "      <th>2</th>\n",
       "      <td>0.76</td>\n",
       "      <td>0.092</td>\n",
       "      <td>15.0</td>\n",
       "      <td>54.0</td>\n",
       "      <td>3.26</td>\n",
       "      <td>0.65</td>\n",
       "      <td>9.8</td>\n",
       "    </tr>\n",
       "    <tr>\n",
       "      <th>3</th>\n",
       "      <td>0.28</td>\n",
       "      <td>0.075</td>\n",
       "      <td>17.0</td>\n",
       "      <td>60.0</td>\n",
       "      <td>3.16</td>\n",
       "      <td>0.58</td>\n",
       "      <td>9.8</td>\n",
       "    </tr>\n",
       "    <tr>\n",
       "      <th>4</th>\n",
       "      <td>0.70</td>\n",
       "      <td>0.076</td>\n",
       "      <td>11.0</td>\n",
       "      <td>34.0</td>\n",
       "      <td>3.51</td>\n",
       "      <td>0.56</td>\n",
       "      <td>9.4</td>\n",
       "    </tr>\n",
       "  </tbody>\n",
       "</table>\n",
       "</div>"
      ],
      "text/plain": [
       "   volatile acidity  chlorides  free sulfur dioxide  ...    pH  sulphates  alcohol\n",
       "0              0.70      0.076                 11.0  ...  3.51       0.56      9.4\n",
       "1              0.88      0.098                 25.0  ...  3.20       0.68      9.8\n",
       "2              0.76      0.092                 15.0  ...  3.26       0.65      9.8\n",
       "3              0.28      0.075                 17.0  ...  3.16       0.58      9.8\n",
       "4              0.70      0.076                 11.0  ...  3.51       0.56      9.4\n",
       "\n",
       "[5 rows x 7 columns]"
      ]
     },
     "execution_count": 52,
     "metadata": {},
     "output_type": "execute_result"
    }
   ],
   "source": [
    "xn = x.drop(['fixed acidity', 'citric acid', 'residual sugar', 'density'], axis=1)\n",
    "xn.head(5)\n"
   ]
  },
  {
   "cell_type": "code",
   "execution_count": null,
   "metadata": {
    "id": "0u4L8E0nbWy1"
   },
   "outputs": [],
   "source": []
  },
  {
   "cell_type": "code",
   "execution_count": 53,
   "metadata": {
    "colab": {
     "base_uri": "https://localhost:8080/"
    },
    "executionInfo": {
     "elapsed": 332,
     "status": "ok",
     "timestamp": 1634443636121,
     "user": {
      "displayName": "Lívia Schaumlöffel",
      "photoUrl": "https://lh3.googleusercontent.com/a-/AOh14Gi_57cih9ovAQ7mcSlalehai5cFK614UxuR5K3M-Ho=s64",
      "userId": "05228036694839920831"
     },
     "user_tz": 180
    },
    "id": "pAKm0p3hbXBu",
    "outputId": "7e896b44-c77d-43c0-bbf6-09232c0f59b3"
   },
   "outputs": [
    {
     "name": "stdout",
     "output_type": "stream",
     "text": [
      "(1119, 7)\n",
      "(1119,)\n"
     ]
    }
   ],
   "source": [
    "from sklearn.model_selection import train_test_split\n",
    "xn_train, xn_test, y_train, y_test = train_test_split(xn, y, test_size=0.30)\n",
    "print(xn_train.shape)\n",
    "print(y_train.shape)"
   ]
  },
  {
   "cell_type": "code",
   "execution_count": 54,
   "metadata": {
    "executionInfo": {
     "elapsed": 362,
     "status": "ok",
     "timestamp": 1634443650841,
     "user": {
      "displayName": "Lívia Schaumlöffel",
      "photoUrl": "https://lh3.googleusercontent.com/a-/AOh14Gi_57cih9ovAQ7mcSlalehai5cFK614UxuR5K3M-Ho=s64",
      "userId": "05228036694839920831"
     },
     "user_tz": 180
    },
    "id": "DAoKkNF6bc59"
   },
   "outputs": [],
   "source": [
    "from sklearn.preprocessing import StandardScaler \n",
    "scaler = StandardScaler()  \n",
    "scaler.fit(xn_train)  \n",
    "xns_train = scaler.transform(xn_train)  \n",
    "xns_test = scaler.transform(xn_test)  \n"
   ]
  },
  {
   "cell_type": "code",
   "execution_count": 55,
   "metadata": {
    "executionInfo": {
     "elapsed": 15335,
     "status": "ok",
     "timestamp": 1634443672270,
     "user": {
      "displayName": "Lívia Schaumlöffel",
      "photoUrl": "https://lh3.googleusercontent.com/a-/AOh14Gi_57cih9ovAQ7mcSlalehai5cFK614UxuR5K3M-Ho=s64",
      "userId": "05228036694839920831"
     },
     "user_tz": 180
    },
    "id": "TOFDCnOVbkhS"
   },
   "outputs": [],
   "source": [
    "from sklearn.neural_network import MLPRegressor\n",
    "rede = MLPRegressor(random_state=1, max_iter=10000, solver='lbfgs').fit(xns_train, y_train)"
   ]
  },
  {
   "cell_type": "code",
   "execution_count": 56,
   "metadata": {
    "colab": {
     "base_uri": "https://localhost:8080/"
    },
    "executionInfo": {
     "elapsed": 311,
     "status": "ok",
     "timestamp": 1634443732460,
     "user": {
      "displayName": "Lívia Schaumlöffel",
      "photoUrl": "https://lh3.googleusercontent.com/a-/AOh14Gi_57cih9ovAQ7mcSlalehai5cFK614UxuR5K3M-Ho=s64",
      "userId": "05228036694839920831"
     },
     "user_tz": 180
    },
    "id": "mYBepezHb-tc",
    "outputId": "f5cbd8c7-bf66-4e5d-f06c-32f341b548d4"
   },
   "outputs": [
    {
     "data": {
      "text/plain": [
       "(480,)"
      ]
     },
     "execution_count": 56,
     "metadata": {},
     "output_type": "execute_result"
    }
   ],
   "source": [
    "y_pred = rede.predict(xns_test)\n",
    "y_pred.shape"
   ]
  },
  {
   "cell_type": "code",
   "execution_count": 57,
   "metadata": {
    "colab": {
     "base_uri": "https://localhost:8080/"
    },
    "executionInfo": {
     "elapsed": 334,
     "status": "ok",
     "timestamp": 1634443741038,
     "user": {
      "displayName": "Lívia Schaumlöffel",
      "photoUrl": "https://lh3.googleusercontent.com/a-/AOh14Gi_57cih9ovAQ7mcSlalehai5cFK614UxuR5K3M-Ho=s64",
      "userId": "05228036694839920831"
     },
     "user_tz": 180
    },
    "id": "wyMWlsDWb-tf",
    "outputId": "29e3aaf4-df49-4f7e-eb3b-7bc8bbad0910"
   },
   "outputs": [
    {
     "name": "stdout",
     "output_type": "stream",
     "text": [
      "0.02305740491157504\n"
     ]
    },
    {
     "data": {
      "text/plain": [
       "5.333132531325348"
      ]
     },
     "execution_count": 57,
     "metadata": {},
     "output_type": "execute_result"
    }
   ],
   "source": [
    "from sklearn.metrics import mean_squared_error\n",
    "from sklearn.metrics import r2_score\n",
    "print(r2_score(y_pred, y_test))\n",
    "RMSEP = np.sqrt((np.sum((y_pred - y_test) ** 2)) / 20);\n",
    "RMSEP"
   ]
  },
  {
   "cell_type": "code",
   "execution_count": 58,
   "metadata": {
    "colab": {
     "base_uri": "https://localhost:8080/",
     "height": 559
    },
    "executionInfo": {
     "elapsed": 1041,
     "status": "ok",
     "timestamp": 1634443756225,
     "user": {
      "displayName": "Lívia Schaumlöffel",
      "photoUrl": "https://lh3.googleusercontent.com/a-/AOh14Gi_57cih9ovAQ7mcSlalehai5cFK614UxuR5K3M-Ho=s64",
      "userId": "05228036694839920831"
     },
     "user_tz": 180
    },
    "id": "o58ZD5vEb-th",
    "outputId": "bf622ad3-329c-4d52-af76-63ed8667f49a"
   },
   "outputs": [
    {
     "name": "stderr",
     "output_type": "stream",
     "text": [
      "/usr/local/lib/python3.7/dist-packages/seaborn/_decorators.py:43: FutureWarning: Pass the following variables as keyword args: x, y. From version 0.12, the only valid positional argument will be `data`, and passing other arguments without an explicit keyword will result in an error or misinterpretation.\n",
      "  FutureWarning\n"
     ]
    },
    {
     "data": {
      "text/plain": [
       "<matplotlib.axes._subplots.AxesSubplot at 0x7f59d96d2690>"
      ]
     },
     "execution_count": 58,
     "metadata": {},
     "output_type": "execute_result"
    },
    {
     "data": {
      "image/png": "[encoded data removed]",
      "text/plain": [
       "<Figure size 1080x576 with 1 Axes>"
      ]
     },
     "metadata": {},
     "output_type": "display_data"
    }
   ],
   "source": [
    "sns.scatterplot(y_pred,y_test)"
   ]
  },
  {
   "cell_type": "code",
   "execution_count": 59,
   "metadata": {
    "colab": {
     "base_uri": "https://localhost:8080/"
    },
    "executionInfo": {
     "elapsed": 340,
     "status": "ok",
     "timestamp": 1634443792730,
     "user": {
      "displayName": "Lívia Schaumlöffel",
      "photoUrl": "https://lh3.googleusercontent.com/a-/AOh14Gi_57cih9ovAQ7mcSlalehai5cFK614UxuR5K3M-Ho=s64",
      "userId": "05228036694839920831"
     },
     "user_tz": 180
    },
    "id": "cP5fmXSTcOy3",
    "outputId": "ccdb5b7d-72ea-4a4e-a5cf-d94236387012"
   },
   "outputs": [
    {
     "name": "stdout",
     "output_type": "stream",
     "text": [
      "[-0.21373021 -0.10191304  0.061161   -0.11630494 -0.05962425  0.15581864\n",
      "  0.2859977 ]\n"
     ]
    }
   ],
   "source": [
    "from sklearn import linear_model\n",
    "regr = linear_model.LinearRegression().fit(xns_train, y_train)\n",
    "print(regr.coef_) \n"
   ]
  },
  {
   "cell_type": "code",
   "execution_count": 60,
   "metadata": {
    "executionInfo": {
     "elapsed": 324,
     "status": "ok",
     "timestamp": 1634443798895,
     "user": {
      "displayName": "Lívia Schaumlöffel",
      "photoUrl": "https://lh3.googleusercontent.com/a-/AOh14Gi_57cih9ovAQ7mcSlalehai5cFK614UxuR5K3M-Ho=s64",
      "userId": "05228036694839920831"
     },
     "user_tz": 180
    },
    "id": "SlCcCPVqcOy9"
   },
   "outputs": [],
   "source": [
    "y_pred = regr.predict(xns_test)"
   ]
  },
  {
   "cell_type": "code",
   "execution_count": 61,
   "metadata": {
    "colab": {
     "base_uri": "https://localhost:8080/"
    },
    "executionInfo": {
     "elapsed": 349,
     "status": "ok",
     "timestamp": 1634443802330,
     "user": {
      "displayName": "Lívia Schaumlöffel",
      "photoUrl": "https://lh3.googleusercontent.com/a-/AOh14Gi_57cih9ovAQ7mcSlalehai5cFK614UxuR5K3M-Ho=s64",
      "userId": "05228036694839920831"
     },
     "user_tz": 180
    },
    "id": "b28Ggy0bcOzA",
    "outputId": "e9dcdd7c-6ee6-4306-8c98-39dda69c7611"
   },
   "outputs": [
    {
     "name": "stdout",
     "output_type": "stream",
     "text": [
      "0.3457296280762321\n"
     ]
    }
   ],
   "source": [
    "# The mean square error\n",
    "np.mean((y_pred - y_test)**2)\n",
    "\n",
    "#print(regr.score(xs_test, y_test))\n",
    "print(r2_score(y_test, y_pred))"
   ]
  },
  {
   "cell_type": "code",
   "execution_count": 62,
   "metadata": {
    "colab": {
     "base_uri": "https://localhost:8080/"
    },
    "executionInfo": {
     "elapsed": 328,
     "status": "ok",
     "timestamp": 1634443990270,
     "user": {
      "displayName": "Lívia Schaumlöffel",
      "photoUrl": "https://lh3.googleusercontent.com/a-/AOh14Gi_57cih9ovAQ7mcSlalehai5cFK614UxuR5K3M-Ho=s64",
      "userId": "05228036694839920831"
     },
     "user_tz": 180
    },
    "id": "HXke_3azczYB",
    "outputId": "e957ec03-7e89-4fbf-c3e8-afa961f30612"
   },
   "outputs": [
    {
     "data": {
      "text/plain": [
       "PLSRegression(copy=True, max_iter=500, n_components=1, scale=True, tol=1e-06)"
      ]
     },
     "execution_count": 62,
     "metadata": {},
     "output_type": "execute_result"
    }
   ],
   "source": [
    "from sklearn.cross_decomposition import PLSRegression\n",
    "pls = PLSRegression(n_components=1)\n",
    "pls.fit(xns_train, y_train)\n"
   ]
  },
  {
   "cell_type": "code",
   "execution_count": 63,
   "metadata": {
    "executionInfo": {
     "elapsed": 343,
     "status": "ok",
     "timestamp": 1634444003206,
     "user": {
      "displayName": "Lívia Schaumlöffel",
      "photoUrl": "https://lh3.googleusercontent.com/a-/AOh14Gi_57cih9ovAQ7mcSlalehai5cFK614UxuR5K3M-Ho=s64",
      "userId": "05228036694839920831"
     },
     "user_tz": 180
    },
    "id": "UfYsRwNBc8ib"
   },
   "outputs": [],
   "source": [
    "y_pred = pls.predict(xns_test)"
   ]
  },
  {
   "cell_type": "code",
   "execution_count": 65,
   "metadata": {
    "colab": {
     "base_uri": "https://localhost:8080/"
    },
    "executionInfo": {
     "elapsed": 299,
     "status": "ok",
     "timestamp": 1634444054451,
     "user": {
      "displayName": "Lívia Schaumlöffel",
      "photoUrl": "https://lh3.googleusercontent.com/a-/AOh14Gi_57cih9ovAQ7mcSlalehai5cFK614UxuR5K3M-Ho=s64",
      "userId": "05228036694839920831"
     },
     "user_tz": 180
    },
    "id": "kqmIv-CkdAJG",
    "outputId": "1adc2c09-fb77-4c02-ba4b-cb581ee9e19a"
   },
   "outputs": [
    {
     "name": "stdout",
     "output_type": "stream",
     "text": [
      "0.33487071595399065\n"
     ]
    }
   ],
   "source": [
    "# The mean square error\n",
    "#np.mean((y_pred - y_test)**2)\n",
    "\n",
    "#print(regr.score(xs_test, y_test))\n",
    "print(r2_score(y_test, y_pred))"
   ]
  }
 ],
 "metadata": {
  "colab": {
   "name": "Trabalho Machine Learning.ipynb",
   "provenance": [
    {
     "file_id": "1sNGvgaZL00edhmjM2wD81B3k58O9hB8d",
     "timestamp": 1634404728617
    }
   ]
  },
  "kernelspec": {
   "display_name": "Python 3 (ipykernel)",
   "language": "python",
   "name": "python3"
  },
  "language_info": {
   "codemirror_mode": {
    "name": "ipython",
    "version": 3
   },
   "file_extension": ".py",
   "mimetype": "text/x-python",
   "name": "python",
   "nbconvert_exporter": "python",
   "pygments_lexer": "ipython3",
   "version": "3.9.12"
  }
 },
 "nbformat": 4,
 "nbformat_minor": 1
}
